{
 "cells": [
  {
   "cell_type": "markdown",
   "metadata": {},
   "source": [
    ". Оптимальная константа\n",
    "Ограничение времени\t1 секунда\n",
    "Ограничение памяти\t64.0 Мб\n",
    "Ввод\tстандартный ввод или input.txt\n",
    "Вывод\tстандартный вывод или output.txt\n",
    "Бэкенд приложения Яндекс.Go устроен по принципу микросервисной архитектуры. При таком устройстве модель машинного обучения может применяться в одном микросервисе (сервере) М1, а использоваться её предсказания будут в другом микросервисе М2, общение между которыми происходит по сети. Поэтому внутри микросервиса М2 необходимо обрабатывать ситуацию, когда по какой-то причине предсказания модели нет (например, для некоторого процента запросов сервис М1 не успевает ответить за заданное время). Основной способ обработать отсутствие предсказания — заменить его на дефолтное простое предсказание (оно будет храниться в конфиге в сервисе М2, значит всегда доступно).\n",
    "\n",
    "Например, сервис М1 может на основе текущей информации о числе пользователей и водителей в районе, текущего времени, погодных условий и т.д. предсказывать число заказов в ближайшие полчаса. Под капотом сервиса — градиентный бустинг, который учитывает всё множество численных и категориальных факторов. На большинство запросов сервиса М2 сервис М1 успевает отдать это точное предсказание. Но если не успел, достанем из конфига константу, рассчитанную по историческим данным за последний месяц. Константу можно рассчитать, оптимизируя разные метрики качества.\n",
    "\n",
    "Мы можем минимизировать среднеквадратичное отклонение MSE:\n",
    "\n",
    "среднюю абсолютную ошибку MAE:\n",
    "\n",
    "или cреднюю абсолютную процентную ошибку MAPE:\n",
    "\n",
    "Формат ввода\n",
    "В первой строке файла input.txt задано целое число N — размер выборки \n",
    "(\n",
    "1\n",
    "≤\n",
    "N\n",
    "≤\n",
    "1\n",
    "0\n",
    "5\n",
    "+\n",
    "1\n",
    ")\n",
    "(1≤N≤10 \n",
    "5\n",
    " +1). Со второй строки через перевод строки написаны целые числа — сама выборка. Каждое число n в выборке \n",
    "(\n",
    "1\n",
    "≤\n",
    "n\n",
    "≤\n",
    "2\n",
    "∗\n",
    "1\n",
    "0\n",
    "3\n",
    ")\n",
    "(1≤n≤2∗10 \n",
    "3\n",
    " )\n",
    "\n",
    "Формат вывода\n",
    "В файл output.txt выведите через перевод строки 3 действительных числа.\n",
    "\n",
    "Константу, минимизирую MSE на входной выборке.\n",
    "Константу, минимизирую MAE на входной выборке.\n",
    "Константу, минимизирую MAPE на входной выборке."
   ]
  },
  {
   "cell_type": "code",
   "execution_count": 41,
   "metadata": {},
   "outputs": [
    {
     "name": "stdout",
     "output_type": "stream",
     "text": [
      "958076.4\n",
      "100314.5\n",
      "123\n"
     ]
    }
   ],
   "source": [
    "import statistics\n",
    "reader = open('input.txt', 'r')\n",
    "N = int(reader.readline())\n",
    "Y = []\n",
    "\n",
    "for _ in range(N):\n",
    "\tY.append(int(reader.readline()))\n",
    "\n",
    "print(statistics.mean(Y))\n",
    "print(statistics.median(Y))\n",
    "\n",
    "def MAPE(Y,C):\n",
    "    return(sum(map(lambda x: abs((x-C)/x),Y))/N)\n",
    "        \n",
    "C = Y[0]\n",
    "for c in Y:\n",
    "    if MAPE(Y,c) < MAPE(Y,C):\n",
    "        C=c\n",
    "print(C)\n",
    "\n",
    "reader.close()    "
   ]
  },
  {
   "cell_type": "code",
   "execution_count": 47,
   "metadata": {},
   "outputs": [
    {
     "name": "stdout",
     "output_type": "stream",
     "text": [
      "958076.4\n",
      "100314.5\n",
      "65464\n"
     ]
    }
   ],
   "source": [
    "reader = open('input.txt', 'r')\n",
    "N = int(reader.readline())\n",
    "Y = []\n",
    "\n",
    "for _ in range(N):\n",
    "\tY.append(int(reader.readline()))\n",
    "\n",
    "Y = sorted(Y)\n",
    "M = statistics.median(Y)\n",
    "\n",
    "def MAPE(Y,C):\n",
    "    return(sum(map(lambda x: abs((x-C)/x),Y))/N)\n",
    "\n",
    "m = round(N/2)\n",
    "C = Y[m]\n",
    "\n",
    "if MAPE(Y,C)>MAPE(Y,Y[m-1]):\n",
    "    while MAPE(Y,Y[m])>MAPE(Y,Y[m-1]):\n",
    "        m=m-1\n",
    "    C =Y[m]\n",
    "elif MAPE(Y,C)>MAPE(Y,Y[m+1]):\n",
    "    while MAPE(Y,Y[m])>MAPE(Y,Y[m-1]):\n",
    "        m=m-1\n",
    "    C =Y[m]  \n",
    "    \n",
    "  \n",
    "print(statistics.mean(Y))\n",
    "print(M)\n",
    "print(C)\n",
    "reader.close()    "
   ]
  },
  {
   "cell_type": "code",
   "execution_count": null,
   "metadata": {},
   "outputs": [],
   "source": []
  },
  {
   "cell_type": "code",
   "execution_count": null,
   "metadata": {},
   "outputs": [],
   "source": []
  }
 ],
 "metadata": {
  "kernelspec": {
   "display_name": "Python 3.8.10 ('scientificProject')",
   "language": "python",
   "name": "python3"
  },
  "language_info": {
   "codemirror_mode": {
    "name": "ipython",
    "version": 3
   },
   "file_extension": ".py",
   "mimetype": "text/x-python",
   "name": "python",
   "nbconvert_exporter": "python",
   "pygments_lexer": "ipython3",
   "version": "3.8.10"
  },
  "orig_nbformat": 4,
  "vscode": {
   "interpreter": {
    "hash": "ca5a478c097662b9289220e03090bd8998ff4b830eeb540f8716e13493384b9b"
   }
  }
 },
 "nbformat": 4,
 "nbformat_minor": 2
}
