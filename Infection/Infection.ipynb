{
 "cells": [
  {
   "cell_type": "markdown",
   "metadata": {},
   "source": [
    "A. D-CoV-3999\n",
    "Ограничение времени\t2 секунды\n",
    "Ограничение памяти\t256Mb\n",
    "Ввод\tстандартный ввод или input.txt\n",
    "Вывод\tстандартный вывод или output.txt\n",
    "В современном мире вирусы развиваются всё быстрее и быстрее, миру приходится меняться и адаптироваться. В частности новый штамм вируса D-CoV-3999 получил удивительную мутацию и теперь передается при контакте больного со здоровым в 100% случаев.\n",
    "В одной крупной компании были введены дополнительные правила безопасности: теперь каждый сотрудник работает из своего изолированного куба, чтобы предотвратить возможность заражения коллег. Но в силу специфики своей деятельности, компания не может отказаться от очных командных встреч, поэтому каждый сотрудник на входе в офис сдает экспресс ПЦР-тест, результат которого приходит в конце дня. В случае, если по результатам тестирования обнаружен зараженный, всю контактировавшую с ним группу людей выводят на карантин. Компания нуждается в вашей помощи автоматизировать этот процесс!\n",
    "Вам даются результаты ПЦР-тестов всех ваших сотрудников в конце рабочего дня, а также список участников всех встреч, на которых сотрудники присутствовали. Как только сотрудник на одной из встреч пересекается с зараженным, он сам становится зараженным и теперь заражает других. По входным данным требуется определить список сотрудников, которых необходимо отправить на карантин в конце рабочего дня.\n",
    "\n",
    "Формат ввода\n",
    "В первой строке содержится одно число \n",
    "n\n",
    "(\n",
    "3\n",
    "≤\n",
    "n\n",
    "≤\n",
    "1\n",
    "0\n",
    "5\n",
    ")\n",
    " количества работников.\n",
    "Во второй строке содержится \n",
    "n\n",
    " чисел, равное количеству результатов тестов в конце рабочего дня.\n",
    "a\n",
    "i\n",
    " - 1 в случае, если человек болел на момент начала рабочего дня, в противном случае 0.\n",
    "Далее следует n строк.\n",
    "Первое число \n",
    "k\n",
    "i\n",
    "(\n",
    "0\n",
    "≤\n",
    "k\n",
    "i\n",
    "≤\n",
    "1\n",
    "0\n",
    "5\n",
    ")\n",
    " равное количеству встреч, которое посетил сотрудник.\n",
    "Далее через пробел перечислены порядковые номера встреч \n",
    "m\n",
    "e\n",
    "e\n",
    "t\n",
    "i\n",
    "n\n",
    "g\n",
    "i\n",
    "(\n",
    "1\n",
    "≤\n",
    "m\n",
    "e\n",
    "e\n",
    "t\n",
    "i\n",
    "n\n",
    "g\n",
    "i\n",
    "≤\n",
    "1\n",
    "0\n",
    "9\n",
    ")\n",
    " - номера встреч.\n",
    "Чем меньше номер, тем раньше была встреча, при этом некоторые встречи могли не состояться (номеров таких встреч не будет ни у одного работника).\n",
    "Гарантируется, что сумма всех \n",
    "k\n",
    "i\n",
    " не превышает \n",
    "1\n",
    "0\n",
    "5\n",
    "Формат вывода\n",
    "Выведите ровно \n",
    "n\n",
    " чисел через пробел. Если \n",
    "i\n",
    "−\n",
    " работник должен быть выведен на карантин, соответствующее число должно быть равно 1 и 0 в противном случае."
   ]
  },
  {
   "cell_type": "code",
   "execution_count": 14,
   "metadata": {},
   "outputs": [
    {
     "name": "stdout",
     "output_type": "stream",
     "text": [
      "10\n",
      "[1, 5] 0\n",
      "15\n",
      "[0, 1] 1\n",
      "20\n",
      "[1, 4] 1\n",
      "1 1 0 1 1 0\n"
     ]
    }
   ],
   "source": [
    "\n",
    "reader = open('input.txt', 'r')\n",
    "N = int(reader.readline())\n",
    "a = [int(n) for n in reader.readline().split( )]\n",
    "m =[]\n",
    "meetings =set()\n",
    "\n",
    "for i in range(N):\n",
    "    m.append(reader.readline().split())\n",
    "    m[i].remove(m[i][0])\n",
    "    for j in m[i]:\n",
    "        meetings.add(j) \n",
    "        \n",
    "for j in sorted(meetings):\n",
    "    infected = 0\n",
    "    present = []\n",
    "    print(j)\n",
    "    for i in range(N):\n",
    "        if j in m[i]:\n",
    "            present.append(i)\n",
    "            if a[i]==1:\n",
    "                infected = 1\n",
    "                \n",
    "                \n",
    "    print(present,infected)\n",
    "    if infected == 1:\n",
    "        for i in present:\n",
    "            a[i] = 1\n",
    "        \n",
    "reader.close()        \n",
    "print(' '.join(map(str,a)))\n"
   ]
  },
  {
   "cell_type": "code",
   "execution_count": 13,
   "metadata": {},
   "outputs": [
    {
     "data": {
      "text/plain": [
       "{'10', '15', '20'}"
      ]
     },
     "execution_count": 13,
     "metadata": {},
     "output_type": "execute_result"
    }
   ],
   "source": [
    "meetings"
   ]
  },
  {
   "cell_type": "code",
   "execution_count": 16,
   "metadata": {},
   "outputs": [
    {
     "name": "stdout",
     "output_type": "stream",
     "text": [
      "[1, 5]\n",
      "[0, 1]\n",
      "[1, 4]\n",
      "[0, 3, 1, 5, 4]\n",
      "1 1 0 1 1 1\n"
     ]
    }
   ],
   "source": [
    "reader = open('input.txt', 'r')\n",
    "N = int(reader.readline())\n",
    "a = [int(n) for n in reader.readline().split( )]\n",
    "m =[]\n",
    "meetings =set()\n",
    "\n",
    "for i in range(N):\n",
    "    m.append(reader.readline().split())\n",
    "    m[i].remove(m[i][0])\n",
    "    for j in m[i]:\n",
    "        meetings.add(j) \n",
    "\n",
    "attendance = {}  \n",
    "for j in sorted(meetings):\n",
    "    infected = 0\n",
    "    present = []\n",
    "    for i in range(N):\n",
    "        if j in m[i]:\n",
    "            present.append(i)\n",
    "    attendance.update({j:present})\n",
    "    print(present)\n",
    "            \n",
    "infected = [] \n",
    "\n",
    "for i in range(N):\n",
    "    if a[i]==1:\n",
    "        infected.append(i)\n",
    "\n",
    "for i in infected:\n",
    "    for j in m[i]:\n",
    "        for k in attendance[j]:\n",
    "            if k not in infected:\n",
    "                infected.append(k)  \n",
    "                a[k]=1\n",
    "            \n",
    "print(infected)\n",
    "reader.close()        \n",
    "print(' '.join(map(str,a)))"
   ]
  },
  {
   "cell_type": "code",
   "execution_count": null,
   "metadata": {},
   "outputs": [],
   "source": []
  }
 ],
 "metadata": {
  "kernelspec": {
   "display_name": "Python 3.8.10 ('scientificProject')",
   "language": "python",
   "name": "python3"
  },
  "language_info": {
   "codemirror_mode": {
    "name": "ipython",
    "version": 3
   },
   "file_extension": ".py",
   "mimetype": "text/x-python",
   "name": "python",
   "nbconvert_exporter": "python",
   "pygments_lexer": "ipython3",
   "version": "3.8.10"
  },
  "orig_nbformat": 4,
  "vscode": {
   "interpreter": {
    "hash": "ca5a478c097662b9289220e03090bd8998ff4b830eeb540f8716e13493384b9b"
   }
  }
 },
 "nbformat": 4,
 "nbformat_minor": 2
}
